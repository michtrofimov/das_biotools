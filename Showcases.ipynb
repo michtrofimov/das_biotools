{
 "cells": [
  {
   "cell_type": "code",
   "execution_count": 211,
   "metadata": {},
   "outputs": [],
   "source": [
    "from bio_files_processor import OpenFasta\n",
    "from das_biotools import run_genscan, DNASequence\n",
    "from custom_random_forest import RandomForestClassifierCustom\n",
    "\n",
    "from sklearn.datasets import make_classification"
   ]
  },
  {
   "cell_type": "code",
   "execution_count": 212,
   "metadata": {},
   "outputs": [],
   "source": [
    "%reload_ext autoreload\n",
    "%autoreload 2"
   ]
  },
  {
   "cell_type": "markdown",
   "metadata": {},
   "source": [
    "# 1. Custom Random Forest"
   ]
  },
  {
   "cell_type": "code",
   "execution_count": 213,
   "metadata": {},
   "outputs": [],
   "source": [
    "X, y = make_classification(n_samples=100000)\n",
    "n_job_1_random_forest = RandomForestClassifierCustom(\n",
    "    max_depth=30, n_estimators=100, max_features=8, random_state=42\n",
    ")\n",
    "n_job_2_random_forest = RandomForestClassifierCustom(\n",
    "    max_depth=30, n_estimators=100, max_features=8, random_state=42\n",
    ")"
   ]
  },
  {
   "cell_type": "code",
   "execution_count": 214,
   "metadata": {},
   "outputs": [
    {
     "name": "stdout",
     "output_type": "stream",
     "text": [
      "CPU times: user 51.7 ms, sys: 110 ms, total: 161 ms\n",
      "Wall time: 2min 32s\n",
      "CPU times: user 57.4 ms, sys: 134 ms, total: 191 ms\n",
      "Wall time: 1min 29s\n"
     ]
    }
   ],
   "source": [
    "%time n_job_1_random_forest.fit(X,y,n_jobs=1)\n",
    "\n",
    "%time n_job_2_random_forest.fit(X,y,n_jobs=2)"
   ]
  },
  {
   "cell_type": "code",
   "execution_count": 215,
   "metadata": {},
   "outputs": [
    {
     "name": "stdout",
     "output_type": "stream",
     "text": [
      "CPU times: user 39.4 ms, sys: 140 ms, total: 180 ms\n",
      "Wall time: 3 s\n",
      "CPU times: user 65.9 ms, sys: 199 ms, total: 265 ms\n",
      "Wall time: 2.28 s\n"
     ]
    }
   ],
   "source": [
    "%time n_jobs_1_pred = n_job_1_random_forest.predict(X, n_jobs=1)\n",
    "\n",
    "%time n_jobs_2_pred = n_job_2_random_forest.predict(X, n_jobs=2)"
   ]
  },
  {
   "cell_type": "code",
   "execution_count": 216,
   "metadata": {},
   "outputs": [
    {
     "data": {
      "text/plain": [
       "True"
      ]
     },
     "execution_count": 216,
     "metadata": {},
     "output_type": "execute_result"
    }
   ],
   "source": [
    "all(n_jobs_1_pred == n_jobs_2_pred)"
   ]
  },
  {
   "cell_type": "code",
   "execution_count": null,
   "metadata": {},
   "outputs": [],
   "source": []
  }
 ],
 "metadata": {
  "kernelspec": {
   "display_name": "ds",
   "language": "python",
   "name": "python3"
  },
  "language_info": {
   "codemirror_mode": {
    "name": "ipython",
    "version": 3
   },
   "file_extension": ".py",
   "mimetype": "text/x-python",
   "name": "python",
   "nbconvert_exporter": "python",
   "pygments_lexer": "ipython3",
   "version": "3.12.0"
  }
 },
 "nbformat": 4,
 "nbformat_minor": 2
}
