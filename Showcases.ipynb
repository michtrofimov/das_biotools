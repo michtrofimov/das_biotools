{
 "cells": [
  {
   "cell_type": "code",
   "execution_count": 32,
   "metadata": {},
   "outputs": [],
   "source": [
    "from bio_files_processor import OpenFasta\n",
    "from das_biotools import run_genscan, DNASequence, AminoAcidSequence, RNASequence\n",
    "from custom_random_forest import RandomForestClassifierCustom\n",
    "\n",
    "from sklearn.datasets import make_classification\n",
    "\n",
    "import pandas as pd"
   ]
  },
  {
   "cell_type": "code",
   "execution_count": 33,
   "metadata": {},
   "outputs": [],
   "source": [
    "%reload_ext autoreload\n",
    "%autoreload 2"
   ]
  },
  {
   "cell_type": "markdown",
   "metadata": {},
   "source": [
    "# 1. Custom Random Forest"
   ]
  },
  {
   "cell_type": "code",
   "execution_count": 34,
   "metadata": {},
   "outputs": [],
   "source": [
    "X, y = make_classification(n_samples=100000)\n",
    "n_job_1_random_forest = RandomForestClassifierCustom(\n",
    "    max_depth=30, n_estimators=100, max_features=8, random_state=42\n",
    ")\n",
    "n_job_2_random_forest = RandomForestClassifierCustom(\n",
    "    max_depth=30, n_estimators=100, max_features=8, random_state=42\n",
    ")"
   ]
  },
  {
   "cell_type": "code",
   "execution_count": 35,
   "metadata": {},
   "outputs": [
    {
     "name": "stdout",
     "output_type": "stream",
     "text": [
      "CPU times: user 61.7 ms, sys: 107 ms, total: 169 ms\n",
      "Wall time: 2min 22s\n",
      "CPU times: user 62.4 ms, sys: 134 ms, total: 196 ms\n",
      "Wall time: 1min 17s\n"
     ]
    }
   ],
   "source": [
    "%time n_job_1_random_forest.fit(X,y,n_jobs=1)\n",
    "\n",
    "%time n_job_2_random_forest.fit(X,y,n_jobs=2)"
   ]
  },
  {
   "cell_type": "code",
   "execution_count": 36,
   "metadata": {},
   "outputs": [
    {
     "name": "stdout",
     "output_type": "stream",
     "text": [
      "CPU times: user 40.7 ms, sys: 115 ms, total: 156 ms\n",
      "Wall time: 2.63 s\n",
      "CPU times: user 68.9 ms, sys: 208 ms, total: 277 ms\n",
      "Wall time: 2.3 s\n"
     ]
    }
   ],
   "source": [
    "%time n_jobs_1_pred = n_job_1_random_forest.predict(X, n_jobs=1)\n",
    "\n",
    "%time n_jobs_2_pred = n_job_2_random_forest.predict(X, n_jobs=2)"
   ]
  },
  {
   "cell_type": "code",
   "execution_count": 37,
   "metadata": {},
   "outputs": [
    {
     "data": {
      "text/plain": [
       "True"
      ]
     },
     "execution_count": 37,
     "metadata": {},
     "output_type": "execute_result"
    }
   ],
   "source": [
    "all(n_jobs_1_pred == n_jobs_2_pred)"
   ]
  },
  {
   "cell_type": "markdown",
   "metadata": {},
   "source": [
    "# 2. OpenFasta"
   ]
  },
  {
   "cell_type": "code",
   "execution_count": 38,
   "metadata": {},
   "outputs": [
    {
     "name": "stdout",
     "output_type": "stream",
     "text": [
      "ID: >GTD323452,\n",
      " Description: 5S_rRNA NODE_272_length_223_cov_0.720238:18-129(+),\n",
      " Sequence:ACGGCCATAGGACTTTGAAAGCACCGCATCCCGTCCGATCTGCGAAGTTAACCAAGATGCCGCCTGGTTAGTACCATGGTGGGGGACCACATGGGAATCCCTGGTGCTGTG\n",
      "\n"
     ]
    }
   ],
   "source": [
    "with OpenFasta(\"data/example_fasta.fasta\") as fasta_file:\n",
    "    print(fasta_file.read_record())"
   ]
  },
  {
   "cell_type": "code",
   "execution_count": 39,
   "metadata": {},
   "outputs": [
    {
     "name": "stdout",
     "output_type": "stream",
     "text": [
      "[ID: >GTD323452,\n",
      " Description: 5S_rRNA NODE_272_length_223_cov_0.720238:18-129(+),\n",
      " Sequence:ACGGCCATAGGACTTTGAAAGCACCGCATCCCGTCCGATCTGCGAAGTTAACCAAGATGCCGCCTGGTTAGTACCATGGTGGGGGACCACATGGGAATCCCTGGTGCTGTG\n",
      ", ID: >GTD678345,\n",
      " Description: 16S_rRNA NODE_80_length_720_cov_1.094737:313-719(+),\n",
      " Sequence:TTGGCTTCTTAGAGGGACTTTTGATGTTTAATCAAAGGAAGTTTGAGGCAATAACAGGTCTGTGATGCCCTTAGATGTTCTGGGCCGCACGCGCGCTACACTGAGCCCTTGGGAGTGGTCCATTTGAGCCGGCAACGGCACGTTTGGACTGCAAACTTGGGCAAACTTGGTCATTTAGAGGAAGTAAAAGTCGTAACAAGGT\n",
      ", ID: >GTD174893,\n",
      " Description: 16S_rRNA NODE_1_length_2558431_cov_75.185164:2153860-2155398(+),\n",
      " Sequence:TTGAAGAGTTTGATCATGGCTCAGATTGAACGCTGGCGGCAGGCCTAACACATGCAAGTCGAACGGTAACAGGAAACAGCTTGCTGTTTCGCTGACGAGTGGGAAGTAGGTAGCTTAACCTTCGGGAGGGCGCTTACCACTTTGTGATTCATGACTGGGGTGAAGTCGTAACAAGGTAACCGTAGGGGAACCTGCGGTTGGATCACCTCCTT\n",
      ", ID: >GTD906783,\n",
      " Description: 16S_rRNA NODE_1_length_2558431_cov_75.185164:793941-795479(-),\n",
      " Sequence:TTGAAGAGTTTGATCATGGCTCAGATTGAACGCTGGCGGCAGGCCTAACACATGCAAGTCGAACGGTAACAGGAAACAGCTTGCTGTTTCGCTGACGAGTGGGAAGTAGGTAGCTTAACCTTCGGGAGGGCGCTTACCACTTTGTGATTCATGACTGGGGTGAAGTCGTAACAAGGTAACCGTAGGGGAACCTGCGGTTGGATCACCTCCTT\n",
      ", ID: >GTD129563,\n",
      " Description: 16S_rRNA NODE_4_length_428221_cov_75.638017:281055-282593(-),\n",
      " Sequence:CGGACGGGTGAGTAATGTCTGGGAAACTGCCTGATGGAGGGGGATAACTACTGGAAACGGTAGCTAATACCGCATAACGTCGCAAGACCAAAGAGGGGGACCGAAGTAGGTAGCTTAACCTTCGGGAGGGCGCTTACCACTTTGTGATTCATGACTGGGGTGAAGTCGTAACAAGGTAACCGTAGGGGAACCTGCGGTTGGATCACCTCCTT\n",
      "]\n"
     ]
    }
   ],
   "source": [
    "with OpenFasta(\"data/example_fasta.fasta\") as fasta_file:\n",
    "    print(fasta_file.read_records())"
   ]
  },
  {
   "cell_type": "markdown",
   "metadata": {},
   "source": [
    "# 3. run_genscan"
   ]
  },
  {
   "cell_type": "code",
   "execution_count": 40,
   "metadata": {},
   "outputs": [
    {
     "name": "stdout",
     "output_type": "stream",
     "text": [
      "Status: 200 \n",
      "\n",
      "Predicted CDS List:\n",
      "['GENSCAN_predicted_peptide_1', '1364_aa'] : MRFVKQYCYGGAAEKGRGFEREQKKMPAVRNPCRIHETLPIAAGGHFALELTTPEQGRDSPDAGRLFCPFGDTSPPLPGPASLKGSPCSCLDAGFFSGSGKPALTPLPRPPSGVLAPEMRRNCEERGSGRFQNSCYPWWGGSGGGIAAGSLAQLHLRIECEGRWRKTLCLGFWQIVFLTATSRGFLRAPGPISIPLPLRGRLPGFALRAPGGAGARRAPSRWFTKCVSEIAGDCPKGQPPATMPLNVSFTNRNYDLDYDSVQPYFYCDEEENFYQQQQQSELQPPAPSEDIWKKFELLPTPPLSPSRRSGLCSPSYVAVTPFSLRGDNDGGGGSFSTADQLEMVTELLGGDMVNQSFICDPDDETFIKNIIIQDCMWSGFSAAAKLVSEKLASYQAARKDSGSPNPARGHSVCSTSSLYLQDLSAAASECIDPSVVFPYPLNDSSSPKSCASQDSSAFSPSSDSLLSSTESSPQGSPEPLVLHEETPPTTSSDSEEEQEDEEEIDVVSVEKRQAPGKRSESGSPSAGGHSKPPHSPLVLKRCHVSTHQHNYAAPPSTRKDYPAAKRVKLDSVRVLRQISNNRKCTSPRSSDTEENVKRRTHNVLERQRRNELKRSFFALRDQIPELENNEKAPKVVILKKATAYILSVQAEEQKLISEEDLLRKRREQLKHKLEQLRNSCATRMRFVKQYCYGGAAEKGRGFEREQKKMPAVRNPCRIHETLPIAAGGHFALELTTPEQGRDSPDAGRLFCPFGDTSPPLPGPASLKGSPCSCLDAGFFSGSGKPALTPLPRPPSGVLAPEMRRNCEERGSGRFQNSCYPWWGGSGGGIAAGSLAQLHLRIECEGRWRKTLCLGFWQIVFLTATSRGFLRAPGPISIPLPLRGRLPGFALRAPGGAGARRAPSRWFTKCVSEIAGDCPKGQPPATMPLNVSFTNRNYDLDYDSVQPYFYCDEEENFYQQQQQSELQPPAPSEDIWKKFELLPTPPLSPSRRSGLCSPSYVAVTPFSLRGDNDGGGGSFSTADQLEMVTELLGGDMVNQSFICDPDDETFIKNIIIQDCMWSGFSAAAKLVSEKLASYQAARKDSGSPNPARGHSVCSTSSLYLQDLSAAASECIDPSVVFPYPLNDSSSPKSCASQDSSAFSPSSDSLLSSTESSPQGSPEPLVLHEETPPTTSSDSEEEQEDEEEIDVVSVEKRQAPGKRSESGSPSAGGHSKPPHSPLVLKRCHVSTHQHNYAAPPSTRKDYPAAKRVKLDSVRVLRQISNNRKCTSPRSSDTEENVKRRTHNVLERQRRNELKRSFFALRDQIPELENNEKAPKVVILKKATAYILSVQAEEQKLISEEDLLRKRREQLKHKLEQLRNSCA\n",
      "\n",
      "Exon List:\n",
      "   number  type  start    end\n",
      "0    1.01  Init    366    443\n",
      "1    1.02  Intr   1002   1230\n",
      "2    1.03  Intr   1976   2156\n",
      "3    1.04  Intr   2461   2683\n",
      "4    1.05  Intr   2855   3626\n",
      "5    1.06  Intr   5003   5561\n",
      "6    1.07  Intr   7917   8001\n",
      "7    1.08  Intr   8560   8788\n",
      "8    1.09  Intr   9534   9714\n",
      "9    1.10  Intr  10019  10241\n",
      "10   1.11  Intr  10413  11184\n",
      "11   1.12  Term  12561  13123\n",
      "12   1.13  PlyA  13418  13423\n",
      "\n",
      "Intron List:\n",
      "       number    type  start    end\n",
      "0   1.01-1.02  Intron    444   1001\n",
      "1   1.02-1.03  Intron   1231   1975\n",
      "2   1.03-1.04  Intron   2157   2460\n",
      "3   1.04-1.05  Intron   2684   2854\n",
      "4   1.05-1.06  Intron   3627   5002\n",
      "5   1.06-1.07  Intron   5562   7916\n",
      "6   1.07-1.08  Intron   8002   8559\n",
      "7   1.08-1.09  Intron   8789   9533\n",
      "8   1.09-1.10  Intron   9715  10018\n",
      "9   1.10-1.11  Intron  10242  10412\n",
      "10  1.11-1.12  Intron  11185  12560\n",
      "11  1.12-1.13  Intron  13124  13417\n"
     ]
    }
   ],
   "source": [
    "file = \"data/myc.fna\"\n",
    "\n",
    "output = run_genscan(sequence_file=file)\n",
    "\n",
    "print(\"Status:\", output.status, \"\\n\")\n",
    "print(\"Predicted CDS List:\")\n",
    "print(output.cds_list[0][\"peptide\"], \":\", output.cds_list[0][\"sequence\"])\n",
    "\n",
    "exon_df = pd.DataFrame(output.exon_list)\n",
    "print(\"\\nExon List:\")\n",
    "print(exon_df)\n",
    "\n",
    "intron_df = pd.DataFrame(output.intron_list)\n",
    "print(\"\\nIntron List:\")\n",
    "print(intron_df)"
   ]
  },
  {
   "cell_type": "markdown",
   "metadata": {},
   "source": [
    "# 4. AminoAcidSequence / DNASequence / RNASequence"
   ]
  },
  {
   "cell_type": "code",
   "execution_count": 41,
   "metadata": {},
   "outputs": [
    {
     "data": {
      "text/plain": [
       "{'L': 1, 'I': 1, 'M': 2}"
      ]
     },
     "execution_count": 41,
     "metadata": {},
     "output_type": "execute_result"
    }
   ],
   "source": [
    "aa_seq = AminoAcidSequence(\"LIMM\")\n",
    "aa_seq.calculate_aa_freq()"
   ]
  },
  {
   "cell_type": "code",
   "execution_count": 42,
   "metadata": {},
   "outputs": [
    {
     "name": "stdout",
     "output_type": "stream",
     "text": [
      "AUGC\n"
     ]
    },
    {
     "data": {
      "text/plain": [
       "das_biotools.RNASequence"
      ]
     },
     "execution_count": 42,
     "metadata": {},
     "output_type": "execute_result"
    }
   ],
   "source": [
    "dna_seq = DNASequence(\"ATGC\")\n",
    "print(dna_seq.transcribe())\n",
    "\n",
    "type(dna_seq.transcribe())"
   ]
  },
  {
   "cell_type": "code",
   "execution_count": 43,
   "metadata": {},
   "outputs": [
    {
     "data": {
      "text/plain": [
       "UACG"
      ]
     },
     "execution_count": 43,
     "metadata": {},
     "output_type": "execute_result"
    }
   ],
   "source": [
    "rna_seq = RNASequence(\"AUGC\")\n",
    "rna_seq.complement()"
   ]
  }
 ],
 "metadata": {
  "kernelspec": {
   "display_name": "ds",
   "language": "python",
   "name": "python3"
  },
  "language_info": {
   "codemirror_mode": {
    "name": "ipython",
    "version": 3
   },
   "file_extension": ".py",
   "mimetype": "text/x-python",
   "name": "python",
   "nbconvert_exporter": "python",
   "pygments_lexer": "ipython3",
   "version": "3.12.0"
  }
 },
 "nbformat": 4,
 "nbformat_minor": 2
}
